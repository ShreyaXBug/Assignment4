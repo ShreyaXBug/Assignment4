{
  "nbformat": 4,
  "nbformat_minor": 0,
  "metadata": {
    "colab": {
      "provenance": []
    },
    "kernelspec": {
      "name": "python3",
      "display_name": "Python 3"
    },
    "language_info": {
      "name": "python"
    }
  },
  "cells": [
    {
      "cell_type": "code",
      "execution_count": null,
      "metadata": {
        "id": "G0CB4kpSBHqN"
      },
      "outputs": [],
      "source": [
        "\n"
      ]
    },
    {
      "cell_type": "markdown",
      "source": [
        "#Question 1 : Explain the purpose of version control systems like Git. Why are they essential in modern software development?\n",
        "\n",
        "      ------> Purpose of Version Control Systems like Git:\n",
        "\n",
        "A Version Control System (VCS) such as Git is a tool used to manage changes to source code and other files over time. It helps developers track, coordinate, and collaborate on software projects efficiently. Git allows developers to:\n",
        "\n",
        "    1. Track changes\n",
        "    2. Revert to changes\n",
        "\n",
        "    \n",
        "  Git is essential in modern word because:\n",
        "  1. It allows to do Branching and Merging\n",
        "  2. History and Backup"
      ],
      "metadata": {
        "id": "xnTz0MNxBnpu"
      }
    },
    {
      "cell_type": "markdown",
      "source": [
        "#Question 2: List the typical steps you would follow when working with Git to make changes to a project and share them on GitHub.\n",
        "\n",
        "     -----------> following are the steps , I will follow to make chnges:\n",
        "     step 1 - Make  a repositiory on GitHub\n",
        "     step 2 - navigate to the folder.\n",
        "     step 3 -  Make changes in files\n",
        "     step 4 - check the status\n",
        "     step 5 - track the changes\n",
        "     step 6 - commit the changes\n",
        "     step 7 - push the changes to GitHub\n",
        "     step 8 - pull the changes before pushing it to the GitHub."
      ],
      "metadata": {
        "id": "Xv1PTAzvCX-8"
      }
    },
    {
      "cell_type": "markdown",
      "source": [
        "#Question 3: What is the purpose of a .gitignore file in a Git repository? Provide an example of how to ignore all .log files.\n",
        "\n",
        "      ------------> A .gitignore command tells the git which files or folders should be ignored and not tracked in the version control system.\n",
        "\n",
        "      examples -\n",
        "      *.log ( command for ignore all files ending with .log extension)"
      ],
      "metadata": {
        "id": "ojVvBrZzDSyH"
      }
    },
    {
      "cell_type": "markdown",
      "source": [
        "#Question 4: You are currently on the main branch and want to switch to a branch named feature-login. Write the Git command to do this.\n",
        "\n",
        "         ----------->   git checkout feature-login\n",
        "\n"
      ],
      "metadata": {
        "id": "4wo7aLZuEA7f"
      }
    },
    {
      "cell_type": "markdown",
      "source": [
        "#Question 5: Declare a variable named age using let and assign it the value 25. Then, update its value to 30."
      ],
      "metadata": {
        "id": "bnNkS0DbEmvC"
      }
    },
    {
      "cell_type": "code",
      "source": [
        "let age = 25;\n",
        "console.log(age);\n",
        "age = 30;\n",
        "console.log(age);"
      ],
      "metadata": {
        "id": "hpVIpUkjEyuF"
      },
      "execution_count": null,
      "outputs": []
    },
    {
      "cell_type": "markdown",
      "source": [
        "#Question 6: Declare a constant named PI with the value 3.14159. Attempting to reassign it should result in an error. Demonstrate this behavior by writing out the outcome.\n"
      ],
      "metadata": {
        "id": "FBCXmVE8FL8r"
      }
    },
    {
      "cell_type": "code",
      "source": [
        "const PI = 3.14159;\n",
        "console.log(PI);\n",
        "PI = 3.5677;\n",
        "console.log(PI);"
      ],
      "metadata": {
        "id": "C2JyRQNTFYPR"
      },
      "execution_count": null,
      "outputs": []
    },
    {
      "cell_type": "markdown",
      "source": [
        "OUTCOME --\n",
        "    \n",
        "    3.14159\n",
        "c:\\Users\\Shreya Kikale\\OneDrive\\Desktop\\JavaScript\\class work\\basic.js:41\n",
        "PI = 3.5677;\n",
        "   ^\n",
        "\n",
        "TypeError: Assignment to constant variable.\n",
        "    at Object.<anonymous> (c:\\Users\\Shreya Kikale\\OneDrive\\Desktop\\JavaScript\\class work\\basic.js:41:4)\n",
        "    at Module._compile (node:internal/modules/cjs/loader:1554:14)\n",
        "    at Object..js (node:internal/modules/cjs/loader:1706:10)\n",
        "    at Module.load (node:internal/modules/cjs/loader:1289:32)\n",
        "    at Function._load (node:internal/modules/cjs/loader:1108:12)\n",
        "    at TracingChannel.traceSync (node:diagnostics_channel:322:14)\n",
        "    at wrapModuleLoad (node:internal/modules/cjs/loader:220:24)\n",
        "    at Function.executeUserEntryPoint [as runMain] (node:internal/modules/run_main:170:5)\n",
        "    at node:internal/main/run_main_module:36:49\n",
        "\n",
        "Node.js v22.14.0\n",
        "\n",
        "[Done] exited with code=1 in 0.159 seconds\n",
        "\n"
      ],
      "metadata": {
        "id": "9O7HUt5PFpjC"
      }
    },
    {
      "cell_type": "markdown",
      "source": [
        "#Question 7: You are given the following array: const colors = [\"red\", \"green\", \"blue\", \"yellow\", \"purple\"];\n",
        "1. Access and print the first element of the array.\n",
        "2. Access and print the last element of the array.\n",
        "3. Access and print the third element of the array\n",
        "\n"
      ],
      "metadata": {
        "id": "nOlxJw2QFxHR"
      }
    },
    {
      "cell_type": "code",
      "source": [
        "// To print the first element of array -\n",
        "console.log(colors[0]);\n",
        "\n",
        "//To print the last element of array -\n",
        "console.log(colors[4]);\n",
        "\n",
        "//To print the Third element of array -\n",
        "console.log(colors[3]);"
      ],
      "metadata": {
        "id": "3ckCt1uUGLxi"
      },
      "execution_count": null,
      "outputs": []
    },
    {
      "cell_type": "markdown",
      "source": [
        "#Question 8: Given x = 10 and y = 5, write expressions to:\n",
        "1. Add x and y\n",
        "2. Check if x is greater than y\n",
        "3. Check if x is equal to y"
      ],
      "metadata": {
        "id": "lWHgHhLXGtos"
      }
    },
    {
      "cell_type": "code",
      "source": [
        "var x = 10;\n",
        "var y = 5;\n",
        "\n",
        "// to add x and y\n",
        "console.log(x+y);\n",
        "\n",
        "\n",
        "// to check if x is greater than y\n",
        "console.log(x>y);\n",
        "\n",
        "// to check if x is equal to y\n",
        "console.log(x===y);\n",
        "\n"
      ],
      "metadata": {
        "id": "XFqZ6IVsHEO7"
      },
      "execution_count": null,
      "outputs": []
    },
    {
      "cell_type": "markdown",
      "source": [
        "#Question 9: Identify the data types of the following values:\n",
        "1. \"Hello\"\n",
        "2. 42\n",
        "3. true\n",
        "4. undefined\n",
        "\n",
        "        -----------> \"Hello\" -- string data type\n",
        "                      \n",
        "                      42 -- integer data type\n",
        "\n",
        "                      true -- boolean data type\n",
        "\n",
        "                      undefined --- undefined data type"
      ],
      "metadata": {
        "id": "kh0UXDBVHgjs"
      }
    }
  ]
}